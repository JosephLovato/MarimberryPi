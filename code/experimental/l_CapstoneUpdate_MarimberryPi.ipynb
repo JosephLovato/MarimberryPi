{
 "cells": [
  {
   "cell_type": "markdown",
   "metadata": {},
   "source": [
    "<div style=\"float: left; width: 25%;\">\n",
    "<ul>\n",
    "<img src=\"http://www.minesnewsroom.com/sites/default/files/wysiwyg-editor/photos/CO-Mines-logo-stacked-4C-200x235w.png\" style=\"height: 115px;\">\n",
    "</ul>\n",
    "</div>\n",
    "\n",
    "<div style=\"float: right; width: 75%;\">\n",
    "<ul>\n",
    "    <h1> CSCI 250 - Building a Sensor System </h1>\n",
    "    <span style=\"color:red\">\n",
    "        <h2> Capstone project update</h2>\n",
    "    </span>\n",
    "</ul>\n",
    "</div>"
   ]
  },
  {
   "cell_type": "markdown",
   "metadata": {},
   "source": [
    "# Marimberry Pi\n",
    "\n",
    "Team Members:\n",
    "* Annabelle Peterson\n",
    "* Joey Lovato\n",
    "* Kara McDonough"
   ]
  },
  {
   "cell_type": "markdown",
   "metadata": {},
   "source": [
    "# Tasks Completed So Far\n",
    "In addition to the tasks completed from the last update:\n",
    "\n",
    "*Hardware:*\n",
    "    * The board where the keys will rest (referenced to as the baseboard) was purchased and all cuts were outlined and drawn in. \n",
    "    * Buttons have been placed on the keys. These will provide a more accute and targeted position on the force provided to the Force Resistive Sensors. \n",
    "    * All extraneous materials have been collected (including: spray paint, screws, hot glue sticks, and PVC pipe caps)\n",
    "    \n",
    "*Software:*\n",
    "    * All code to handle the 2 8-channel ADCs had been implemented. \n",
    "    * The beginning of the Driver class has been created, which will essentially drive the entire system, including handling action listeners and respective proccesses. \\\n",
    "    * Finished forceToNote conversion method, including bugs when holding note down, releasing, etc.\n",
    "\n"
   ]
  },
  {
   "cell_type": "markdown",
   "metadata": {},
   "source": [
    "# What tasks are yet to be completed? \n",
    "\n",
    "*Hardware:*\n",
    "    * The keys and sensors must still be laid out on the baseboard once they are cut\n",
    "    * Holes must the drilled for the sensor wires to be slipped through\n",
    "    * After all the holes are drilled and cuts made, the baseboard must be assembled\n",
    "    * LEDs must be implemented once the holes are drilled\n",
    "\n",
    "*Software:*\n",
    "    * We still need to implement the following variables/functions in the Driver Class:\n",
    "        * musicData: holds continues numpy array of song being played\n",
    "        * sample(): returns all analog values of all keys in an array\n",
    "        * playNotes(notes): plays each note depending on values in notes array\n",
    "        * plotData(): plot data\n",
    "    * We will also implement the following classes, and maybe more as we develop:\n",
    "        * Song: holds data in midi/FluidSynth/Analog form to be recalled and played later \n",
    "        \n",
    "*Extra:*\n",
    "    * Video will need to be compiled and editted within the next half of a week or so"
   ]
  },
  {
   "cell_type": "markdown",
   "metadata": {},
   "source": [
    "# Revised Timeline\n",
    "\n",
    "\n",
    "| Milestone | Soft Deadline | Hard Deadline | Hardware | Software|\n",
    "| --- | --- | --- | --- | --- |\n",
    "| First Progress Report | N/A | 4/11 | N/A | N/A |\n",
    "| Full Prototype (Limited Features) | 4/1 | 4/17 | Full octave of keys: *The keys themselves must be ready to put in place but will not have the sensors under them until the end* The baseboard will be acquired and prepped for the keys to be laid down: *the baseboard does not have to have the finish coat of paint or sealant on it yet.* *The basic circuit will be completed but will not be finalized until later*. | Bare bones software will be outlined and semi-finished and we'll also be able to take in sensor input and convert into an LED output. *The audio libraries will be completed so that the marimba will be able to play multiple short notes or one long note*|\n",
    "| Second Progress Report | N/A | 4/18 | N/A | N/A |\n",
    "| Full Prototype (Full Features) | 4/25 | 4/29 | Full sensors need to be working. All components must be assembled and ready to use. *The final coat of paint must be put on the baseboard as well as the sealant*. | Full project suite will be created and all features that are included. The MIDI file IO is created and working. The MIDI is imported to play along with LEDs, then recieve feedback. The speaker and its code should be completed.*The code must be tested and able to run multiple times without failing out*. *Video must be completed and edited* |\n",
    "| Final Report and Video | N/A | 4/29 | N/A | N/A |\n",
    "\n",
    "\n",
    "* Any portions that have been added onto the original timeline have been put in italics (i.e. *the keys themselves must be ready to put in place but will not have the sensors under them until the end* is a new revision to the timeline that adds in clarity as well as reduces stress on the team)\n",
    "\n",
    "* Our deadlines have not been changed due to the pace at which the code is being made. The only major adjustment to the schedule is adding the task of completing the video.\n",
    "\n",
    "\n"
   ]
  },
  {
   "cell_type": "code",
   "execution_count": null,
   "metadata": {},
   "outputs": [],
   "source": []
  }
 ],
 "metadata": {
  "kernelspec": {
   "display_name": "Python 3",
   "language": "python",
   "name": "python3"
  },
  "language_info": {
   "codemirror_mode": {
    "name": "ipython",
    "version": 3
   },
   "file_extension": ".py",
   "mimetype": "text/x-python",
   "name": "python",
   "nbconvert_exporter": "python",
   "pygments_lexer": "ipython3",
   "version": "3.7.3"
  },
  "varInspector": {
   "cols": {
    "lenName": 16,
    "lenType": 16,
    "lenVar": 40
   },
   "kernels_config": {
    "python": {
     "delete_cmd_postfix": "",
     "delete_cmd_prefix": "del ",
     "library": "var_list.py",
     "varRefreshCmd": "print(var_dic_list())"
    },
    "r": {
     "delete_cmd_postfix": ") ",
     "delete_cmd_prefix": "rm(",
     "library": "var_list.r",
     "varRefreshCmd": "cat(var_dic_list()) "
    }
   },
   "types_to_exclude": [
    "module",
    "function",
    "builtin_function_or_method",
    "instance",
    "_Feature"
   ],
   "window_display": false
  }
 },
 "nbformat": 4,
 "nbformat_minor": 2
}
