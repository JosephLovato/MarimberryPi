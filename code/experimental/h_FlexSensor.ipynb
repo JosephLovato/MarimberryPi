{
 "cells": [
  {
   "cell_type": "markdown",
   "metadata": {},
   "source": [
    "<div style=\"float: left; width: 25%;\">\n",
    "<ul>\n",
    "<img src=\"http://www.minesnewsroom.com/sites/default/files/wysiwyg-editor/photos/CO-Mines-logo-stacked-4C-200x235w.png\" style=\"height: 115px;\">\n",
    "</ul>\n",
    "</div>\n",
    "\n",
    "<div style=\"float: right; width: 75%;\">\n",
    "<ul>\n",
    "    <h1> CSCI 250 - Building a Sensor System </h1>\n",
    "    <span style=\"color:red\">\n",
    "        <h2> Flex sensor </h2>\n",
    "    </span>\n",
    "</ul>\n",
    "</div>"
   ]
  },
  {
   "cell_type": "markdown",
   "metadata": {},
   "source": [
    "# Introduction\n",
    "\n",
    "<img src=\"https://cdn.sparkfun.com//assets/parts/1/6/8/6/08606-03-L.jpg\" width=\"30%\" align=\"right\">\n",
    "\n",
    "Flex sensors are electrical devices that change their resistance based on how far they have been bent or flexed. Bending one way usually increases the resistance, and bending the other way decreases the resistance. You can learn more about flex sensors on [this page](https://en.wikipedia.org/wiki/Flex_sensor)."
   ]
  },
  {
   "cell_type": "markdown",
   "metadata": {},
   "source": [
    "# Wiring\n",
    "\n",
    "According to the [datasheet](https://cdn.sparkfun.com/datasheets/Sensors/ForceFlex/FLEXSENSORREVA1.pdf) (can be found under the Documents tab of the [SparkFun website](https://www.sparkfun.com/products/8606)), the flex sensors that come in our kits have a resistance range of over 60k Ohm to 110k Ohm. Our kits don't come with anything to measure resistance directly, but we can make use of a voltage divider to calculate it. You should remember this circuit from the photoresistor: there are 2 resistors in series between some voltage source, and the voltage between the resistors can be calculated using the voltage divider equation.\n",
    "\n",
    "<img src=\"https://www.dropbox.com/s/zue2dzspdy5t1q3/wiring_voltage_divider.PNG?raw=1\" width=\"30%\">\n",
    "\n",
    "$$V_{out}=\\dfrac{V_{in}\\;R_2}{R_1+R_2}$$\n",
    "\n",
    "In the case of our flex sensors, 10k Ohm resistors (color bands: brown->black->orange->gold) work well, so put one series with the flex sensor. The junction between the resistor and flex sensor should be connected to a channel of the [ADC](h_ADC.ipynb) as shown below (wiring for ADC omitted). We can also rearrange the voltage divider equation to find the resistance of the flex sensor as a function of the measured voltage.\n",
    "\n",
    "$$R_1=R_2\\left(\\dfrac{V_{in}}{V_{out}}-1\\right)=10,000\\left(\\dfrac{3.3}{CH1}-1\\right)$$\n",
    "\n",
    "<img src=\"https://www.dropbox.com/s/3e577gpngbl2kky/wiring_flex_fsr.PNG?raw=1\" width=\"67%\" align=\"left\">\n",
    "\n",
    "<img src=\"https://www.dropbox.com/s/xe8hvgyp70kd8co/circuit_flex.jpg?raw=1\" width=\"33%\" align=\"right\">"
   ]
  },
  {
   "cell_type": "markdown",
   "metadata": {},
   "source": [
    "# Programming\n",
    "\n",
    "Because we need to use the ADC to measure the voltage from the flex sensor voltage divider, go to the [ADC notebook](h_ADC.ipynb) to run the code from it to test the flex sensor. You should modify the code to use the equation above to calculate the resistance when you test it. You should find the resistance range from roughly 60k Ohm to 110k Ohm. We've seen them go from over 100k Ohms to around 20k Ohms! These sensors are also rather imprecise and would require calibration to get an accurate measurement of force."
   ]
  },
  {
   "cell_type": "markdown",
   "metadata": {},
   "source": [
    "# Debugging\n",
    "\n",
    "Useful debugging tips for any time during the semester!\n",
    "\n",
    "* I get error messages when I run my code.\n",
    "    * There's probably an issue with your code, not any of the components! Read the error message and try to understand what it's telling you in order to fix it. If you're not sure, ask someone to help you!\n",
    "* The ADC always returns 0.\n",
    "    * You're probably having an issue communicating with the ADC, which would most likely come from a wiring problem. Double check your wiring with ADC notebook to make sure the connections are correct. Also double check your code for any bugs, and that you're using the same channel that the flex sensor is connected to.\n",
    "    * Make sure your flex sensor is wired correctly as a voltage divider. Follow the wiring diagrams above, and make sure the junction between the resistors is connected to one of the ADC channel pins.\n",
    "    * If the above steps don't work, raise your hand and we'll come help you.\n",
    "* I get funky numbers from the ADC.\n",
    "    * The most likely cause is that the pin is left floating because it's not connected to anything; simply moving your hand near the ADC can cause the values to change! Make sure your voltage divider is connected to one of the channel pins of the ADC, and make sure your code is getting data from the same channel.\n",
    "    * If the above doesn't help, try swapping your flex sensor with a neighbor's. If the new one works, yours is likely broken.\n",
    "    * If your neighbor's flex sensor still gives you funky values, try your neighbor's ADC. If the new one works, yours is likely broken.\n",
    "    * If none of the above steps help, you may be having some other issue; raise your hand and we'll come help you."
   ]
  }
 ],
 "metadata": {
  "kernelspec": {
   "display_name": "Python 3",
   "language": "python",
   "name": "python3"
  },
  "language_info": {
   "codemirror_mode": {
    "name": "ipython",
    "version": 3
   },
   "file_extension": ".py",
   "mimetype": "text/x-python",
   "name": "python",
   "nbconvert_exporter": "python",
   "pygments_lexer": "ipython3",
   "version": "3.6.5"
  },
  "varInspector": {
   "cols": {
    "lenName": 16,
    "lenType": 16,
    "lenVar": 40
   },
   "kernels_config": {
    "python": {
     "delete_cmd_postfix": "",
     "delete_cmd_prefix": "del ",
     "library": "var_list.py",
     "varRefreshCmd": "print(var_dic_list())"
    },
    "r": {
     "delete_cmd_postfix": ") ",
     "delete_cmd_prefix": "rm(",
     "library": "var_list.r",
     "varRefreshCmd": "cat(var_dic_list()) "
    }
   },
   "types_to_exclude": [
    "module",
    "function",
    "builtin_function_or_method",
    "instance",
    "_Feature"
   ],
   "window_display": false
  }
 },
 "nbformat": 4,
 "nbformat_minor": 2
}
