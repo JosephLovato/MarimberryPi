{
 "cells": [
  {
   "cell_type": "markdown",
   "metadata": {},
   "source": [
    "<div style=\"float: left; width: 25%;\">\n",
    "<ul>\n",
    "<img src=\"http://www.minesnewsroom.com/sites/default/files/wysiwyg-editor/photos/CO-Mines-logo-stacked-4C-200x235w.png\" style=\"height: 115px;\">\n",
    "</ul>\n",
    "</div>\n",
    "\n",
    "<div style=\"float: right; width: 75%;\">\n",
    "<ul>\n",
    "    <h1> CSCI 250 - Building a Sensor System </h1>\n",
    "    <span style=\"color:red\">\n",
    "        <h2> Capstone project update</h2>\n",
    "    </span>\n",
    "</ul>\n",
    "</div>"
   ]
  },
  {
   "cell_type": "markdown",
   "metadata": {},
   "source": [
    "# Marimberry Pi\n",
    "\n",
    "Team Members:\n",
    "* Annabelle Peterson\n",
    "* Joey Lovato\n",
    "* Kara McDonough"
   ]
  },
  {
   "cell_type": "markdown",
   "metadata": {},
   "source": [
    "# Tasks Completed So Far\n",
    "* The experimental code was completed and tested\n",
    "* Testing materials were collected and used on the Force Resistive Sensor (FSR) in order to determine how the sensors will work. \n",
    "* Added the sound library for the Marimberry Pi pitches and octaves. \n",
    "* We have 8 potential keys ready and will only need the materials to get them set up\n",
    "* Processing code has been started and has yet to be completed:\n",
    "    * Code to determine threshholds of any sensor\n",
    "    * Code to convert a tap of the key/FSR to sound\n",
    "* Created code to display graphs for testing data\n",
    "* Set up the audio output so that headphones can be put in to hear the marimba keys\n"
   ]
  },
  {
   "cell_type": "markdown",
   "metadata": {},
   "source": [
    "![board.jpg](files/board.jpg)\n",
    "\n",
    "\n",
    "\n",
    "The image above is a representation of some of the work done during the meeting on Thursday, April 4th, 2019. "
   ]
  },
  {
   "cell_type": "markdown",
   "metadata": {},
   "source": [
    "# Tasks Needed To Be Completed\n",
    "\n",
    "* Get materials and cut out the keys (potentially with a laser cutter) \n",
    "* Attach buttons and sensors\n",
    "* Baseboard must be acquired and set up for construction of the 8 keys\n",
    "* Keep working on processing code\n",
    "    * Need to solve the issue where pressing and holding will give one long note instead of many rapid notes\n",
    "    * Need to complete the driver (what actually runs the code and does all the processing) \n",
    "* Need to hook up the LED to determine if it will go at the same time as the key is hit\n",
    "    "
   ]
  },
  {
   "cell_type": "markdown",
   "metadata": {},
   "source": [
    "# Revised Timeline\n",
    "\n",
    "\n",
    "| Milestone | Soft Deadline | Hard Deadline | Hardware | Software|\n",
    "| --- | --- | --- | --- | --- |\n",
    "| First Progress Report | N/A | 4/11 | N/A | N/A |\n",
    "| Full Prototype (Limited Features) | 4/1 | 4/17 | Full octave of keys: *The keys themselves must be ready to put in place but will not have the sensors under them until the end* The baseboard will be acquired and prepped for the keys to be laid down: *the baseboard does not have to have the finish coat of paint or sealant on it yet.* *The basic circuit will be completed but will not be finalized until later* | Bare bones software will be outlined and semi-finished and we'll also be able to take in sensor input and convert into an LED output. *The audio libraries will be completed so that the marimba will be able to play multiple short notes or one long note*|\n",
    "| Second Progress Report | N/A | 4/18 | N/A | N/A |\n",
    "| Full Prototype (Full Features) | 4/25 | 4/29 | Full sensors need to be working. All components must be assembled and ready to use. *The final coat of paint must be put on the baseboard as well as the sealant* | Full project suite will be created and all features are included. The MIDI file IO is created and working. The MIDI is imported to play along with LEDs, then recieve feedback. The speaker and its code should be completed.\n",
    "| Final Report and Video | N/A | 4/29 | N/A | N/A |\n",
    "\n",
    "\n",
    "* Any newly revised portions have been put in italics (i.e. *the keys themselves must be ready to put in place but will not have the sensors under them until the end* is a new revision to the timeline that adds in clarity as well as reduces stress on the team)\n",
    "\n",
    "* It is also important to note that our team has decided not to adjust the deadline days, only the actions that must be performed by the hard and soft deadlines. We reached this conclusion due to the amount of work we get done at each meeting. Because we've gotten a lot of the coding completed while we are together as a group, our main focus outside of meetings is on the physical completion of the marimba, which is spearheaded by Annabelle Peterson. The code has been mainly worked on by Joey and Kara. \n",
    "\n",
    "\n"
   ]
  },
  {
   "cell_type": "code",
   "execution_count": null,
   "metadata": {},
   "outputs": [],
   "source": []
  }
 ],
 "metadata": {
  "kernelspec": {
   "display_name": "Python 3",
   "language": "python",
   "name": "python3"
  },
  "language_info": {
   "codemirror_mode": {
    "name": "ipython",
    "version": 3
   },
   "file_extension": ".py",
   "mimetype": "text/x-python",
   "name": "python",
   "nbconvert_exporter": "python",
   "pygments_lexer": "ipython3",
   "version": "3.7.3"
  },
  "varInspector": {
   "cols": {
    "lenName": 16,
    "lenType": 16,
    "lenVar": 40
   },
   "kernels_config": {
    "python": {
     "delete_cmd_postfix": "",
     "delete_cmd_prefix": "del ",
     "library": "var_list.py",
     "varRefreshCmd": "print(var_dic_list())"
    },
    "r": {
     "delete_cmd_postfix": ") ",
     "delete_cmd_prefix": "rm(",
     "library": "var_list.r",
     "varRefreshCmd": "cat(var_dic_list()) "
    }
   },
   "types_to_exclude": [
    "module",
    "function",
    "builtin_function_or_method",
    "instance",
    "_Feature"
   ],
   "window_display": false
  }
 },
 "nbformat": 4,
 "nbformat_minor": 2
}
