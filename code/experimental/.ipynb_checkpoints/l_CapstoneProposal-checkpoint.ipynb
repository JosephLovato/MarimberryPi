{
 "cells": [
  {
   "cell_type": "markdown",
   "metadata": {},
   "source": [
    "<div style=\"float: left; width: 25%;\">\n",
    "<ul>\n",
    "<img src=\"http://www.minesnewsroom.com/sites/default/files/wysiwyg-editor/photos/CO-Mines-logo-stacked-4C-200x235w.png\" style=\"height: 115px;\">\n",
    "</ul>\n",
    "</div>\n",
    "\n",
    "<div style=\"float: right; width: 75%;\">\n",
    "<ul>\n",
    "    <h1> CSCI 250 - Building a Sensor System </h1>\n",
    "    <span style=\"color:red\">\n",
    "        <h2> Capstone proposal template </h2>\n",
    "    </span>\n",
    "</ul>\n",
    "</div>"
   ]
  },
  {
   "cell_type": "markdown",
   "metadata": {},
   "source": [
    "# Title and description of the project\n",
    "\n",
    "We will be building and presenting the MARIMBERRY PI! The project's goal is to create an instrument for mallet-specialized percussionists to be able to more accurately assess their skills, perfect techniques, and have equipment that can be easily stored and used while living in cramped situations (i.e. college) where housing a full sized marimba is not feasible. The actual object will be approximately one third the size of real marimba while maintaining realistic dimensions of the keys and their spacing."
   ]
  },
  {
   "cell_type": "markdown",
   "metadata": {},
   "source": [
    "# Names and roles of all team members\n",
    "\n",
    "* Joey Lovato:\n",
    "    * Project Overseer and lead coder\n",
    "* Annabelle Peterson:\n",
    "    * Lead circuit constructor and main project assembler\n",
    "* Kara McDonough:\n",
    "    * Troubleshooter and secondary coder/circuit builder"
   ]
  },
  {
   "cell_type": "markdown",
   "metadata": {},
   "source": [
    "# How the project requirements will be met\n",
    "\n",
    "* Collecting data: \n",
    "    * Data will be collected through a series of force sensors, each individual one placed beneath a key. As the keys are struck, the data from the sensors will be recorded and used for a variety of interpretations. Along with collecting indivual fore readings from the notes, the series of data will be used to determine average values of force provided by each hand when hitting the key.\n",
    "* Processing data:\n",
    "    * Numpy arrays will be used to collect the data and create calculations for average force for a series of notes played. Along with calculating averages, a musician will be able to choose an individual note and compare the dynamic given to it (i.e. the force provided) and compare it to other notes. For example, if the musician is playing Twinkle Twinkle Little Star and the fith note has an accent on it, the musician can call in the array and look at the force given to that note. If it's force is greater than the force given to the sixth note, a non-accented note, then they will be able to see that they've played the note correctly. \n",
    "* Display:\n",
    "    * The MPi will use LEDs that illuminate when a note is struck. This will show exactly what key is hit to avoid confusion as to where the mallet landed. Along with this, the data will be transmitted and displayed in files that are output when the user decides to end the program. \n",
    "* Overall: \n",
    "    * The Marimberry Pi will be used to go from user input to collecting the data in Numpy arrays and calculating averages from the force data recieved. Afterwards, the data is interpreted by choice of the user. An example is that the musician can look at a series of notes so that they can assess if the proper dynamics have been played. "
   ]
  },
  {
   "cell_type": "markdown",
   "metadata": {},
   "source": [
    "# Project timeline and milestones\n",
    "\n",
    "| Milestone | Soft Deadline | Hard Deadline | Hardware | Software|\n",
    "| --- | --- | --- | --- | --- |\n",
    "| Testing Platform and Code | 3/22 | 4/2 | -  Testing keys on a makeshift platform. -  Only have a couple keys to test with a minimum of one. -  Have the Pi and breadboard set up to test. | -  Have the testing suit set up. -  Set up to have code that tests multiple different types of sensors and compare the data. |\n",
    "| Project Proposal | N/A | 4/2 | N/A | N/A |\n",
    "| First Progress Report | N/A | 4/11 | N/A | N/A |\n",
    "| Full Prototype (Limited Features) | 4/1 | 4/17 | Full octave of keys, with all of them built but not necessarily bolted down. The baseboard should be completed and sensors should be hooked up to the Pi, but not completely glued down and in \"final\" position. LEDs need to be hooked up to each key. | Bare bones software will be outlined and semi-finished and we'll also be able to take in sensor input and convert into an LED output. |\n",
    "| Second Progress Report | N/A | 4/18 | N/A | N/A |\n",
    "| Full Prototype (Full Features) | 4/25 | 4/29 | Full sensors need to be working. All components must be assembled and ready to use. | Full project suite will be created and all features are included. The MIDI file IO is created and working. The MIDI is imported to play along with LEDs, then recieve feedback. The speaker and its code should be completed\n",
    "| Final Report and Video | N/A | 4/29 | N/A | N/A |\n",
    "\n",
    "\n",
    "\n",
    "\n",
    "\n",
    "\n",
    "\n",
    "\n",
    "\n",
    "\n",
    "\n",
    "\n",
    "\n"
   ]
  },
  {
   "cell_type": "markdown",
   "metadata": {},
   "source": [
    "# Hardware elements you intend to use\n",
    "\n",
    "* 16 Force Sensitive Resistors: \n",
    "    * Justification: We would need 16 FSR because we plan to put one underneath each key (totalling 16 keys) so that each hit with a mallet will be registered and accounted for.\n"
   ]
  }
 ],
 "metadata": {
  "kernelspec": {
   "display_name": "Python 3",
   "language": "python",
   "name": "python3"
  },
  "language_info": {
   "codemirror_mode": {
    "name": "ipython",
    "version": 3
   },
   "file_extension": ".py",
   "mimetype": "text/x-python",
   "name": "python",
   "nbconvert_exporter": "python",
   "pygments_lexer": "ipython3",
   "version": "3.7.3"
  },
  "varInspector": {
   "cols": {
    "lenName": 16,
    "lenType": 16,
    "lenVar": 40
   },
   "kernels_config": {
    "python": {
     "delete_cmd_postfix": "",
     "delete_cmd_prefix": "del ",
     "library": "var_list.py",
     "varRefreshCmd": "print(var_dic_list())"
    },
    "r": {
     "delete_cmd_postfix": ") ",
     "delete_cmd_prefix": "rm(",
     "library": "var_list.r",
     "varRefreshCmd": "cat(var_dic_list()) "
    }
   },
   "types_to_exclude": [
    "module",
    "function",
    "builtin_function_or_method",
    "instance",
    "_Feature"
   ],
   "window_display": false
  }
 },
 "nbformat": 4,
 "nbformat_minor": 2
}
