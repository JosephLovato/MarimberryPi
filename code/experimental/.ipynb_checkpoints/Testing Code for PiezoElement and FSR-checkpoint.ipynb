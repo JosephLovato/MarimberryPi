{
 "cells": [
  {
   "cell_type": "code",
   "execution_count": 0,
   "metadata": {},
   "outputs": [],
   "source": [
    "import numpy as np\n",
    "import matplotlib.pyplot as plt\n",
    "import spiUtils as su\n",
    "\n",
    "\n",
    "\n",
    "\n",
    "\n",
    "#PiezoElement Test Code\n",
    "\n",
    "# This n value takes a few seconds to run so you can test\n",
    "nDATA  = 10000\n",
    "toVolt = 3.3/1023\n",
    "dPIEZO = np.zeros(nDATA,dtype='float')\n",
    "\n",
    "for i in range(nDATA):\n",
    "    dPIEZO[i] = toVolt * su.readADC(channel=0) # PIEZO element\n",
    "\n",
    "plt.plot(dPIEZO,'k');\n",
    "plt.show()\n",
    "\n",
    "\n",
    "#photoresistor code: use the voltage divider\n",
    "import spiUtils as su\n",
    "import time\n",
    "\n",
    "for i in range(10):\n",
    "    dres = su.readADC(channel=1) # select channel on ADC\n",
    "    vres = 3.3 * dres/1023\n",
    "    rres = 1e4 * (3.3/vres - 1)\n",
    "    print(dres,vres,rres)\n",
    "    time.sleep(1)\n",
    "    \n",
    "    \n",
    "    \n",
    "#testing code for FSR\n",
    "    #use the voltage divider from above PR code"
   ]
  }
 ],
 "metadata": {
  "kernelspec": {
   "display_name": "SageMath 8.7",
   "language": "",
   "name": "sagemath"
  },
  "language_info": {
   "codemirror_mode": {
    "name": "ipython",
    "version": 2
   },
   "file_extension": ".py",
   "mimetype": "text/x-python",
   "name": "python",
   "nbconvert_exporter": "python",
   "pygments_lexer": "ipython2",
   "version": "2.7.16"
  }
 },
 "nbformat": 4,
 "nbformat_minor": 1
}
